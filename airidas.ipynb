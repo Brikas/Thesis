{
 "cells": [
  {
   "cell_type": "markdown",
   "metadata": {},
   "source": [
    "## Persona"
   ]
  },
  {
   "cell_type": "code",
   "execution_count": 30,
   "metadata": {},
   "outputs": [],
   "source": [
    "import importlib\n",
    "import brikasutils as bu\n",
    "importlib.reload(bu)\n",
    "import fb_msg_reader as fb\n",
    "importlib.reload(fb)\n",
    "import shared_utils as utils\n",
    "importlib.reload(utils)\n",
    "from typing import List\n",
    "import re\n"
   ]
  },
  {
   "cell_type": "code",
   "execution_count": 2,
   "metadata": {},
   "outputs": [
    {
     "name": "stdout",
     "output_type": "stream",
     "text": [
      "Read 1946 messages from 1 files. Failed to read 0 messages.\n",
      "Messages ranged from 2021-09-13 to 2024-03-06\n",
      "Messages saved to self.fb_messages['elias']\n",
      "Read 40036 messages from 5 files. Failed to read 0 messages.\n",
      "Messages ranged from 2020-08-17 to 2024-03-04\n",
      "Messages saved to self.fb_messages['petyo']\n",
      "Filtering\n",
      "link-filter: 950\n",
      "react-filter: 30\n"
     ]
    },
    {
     "name": "stderr",
     "output_type": "stream",
     "text": [
      "/Users/twenythree/Library/Python/3.9/lib/python/site-packages/urllib3/__init__.py:35: NotOpenSSLWarning: urllib3 v2 only supports OpenSSL 1.1.1+, currently the 'ssl' module is compiled with 'LibreSSL 2.8.3'. See: https://github.com/urllib3/urllib3/issues/3020\n",
      "  warnings.warn(\n"
     ]
    },
    {
     "name": "stdout",
     "output_type": "stream",
     "text": [
      "Selected chat elias for 5828 (211 messages)\n",
      "Selected chat petyo for 5997 (402 messages)\n"
     ]
    }
   ],
   "source": [
    "import persona\n",
    "importlib.reload(persona)\n",
    "\n",
    "texts_with_elias = [\n",
    "    \"selected-data/elias/message_1.json\",\n",
    "]\n",
    "\n",
    "texts_with_petyo = [\n",
    "    \"selected-data/petyo/message_1.json\",\n",
    "    \"selected-data/petyo/message_2.json\",\n",
    "    \"selected-data/petyo/message_3.json\",\n",
    "    \"selected-data/petyo/message_4.json\",\n",
    "    \"selected-data/petyo/message_5.json\",\n",
    "]\n",
    "\n",
    "ab = persona.PersonaEncoder()\n",
    "ab.parse_fb_messages(texts_with_elias, \"elias\")\n",
    "ab.parse_fb_messages(texts_with_petyo, \"petyo\")\n",
    "\n",
    "ab.filter_chats_empty()\n",
    "ab.filter_chats_regex(utils.BLACKLIST_CHAT_REGEX_FILTERS)\n",
    "\n",
    "# Compress names\n",
    "for nameid, chat in ab.chats.items():\n",
    "    for msg in chat:  \n",
    "        msg.sender = \"Persona\" if msg.sender == \"Airidas Brikas\" else \"Friend\"\n",
    "\n",
    "# Start all chats from 2/3rds\n",
    "for nameid, chat in ab.chats.items():\n",
    "    ab.chats[nameid] = chat[int(len(chat)/3 * 2):]\n",
    "\n",
    "ab.select_chat_limited_by_tokens(\"elias\", 6000)\n",
    "ab.select_chat_limited_by_tokens(\"petyo\", 6000)\n",
    "persona_text = ab.output()\n",
    "bu.quickTXT(persona_text)\n",
    "\n"
   ]
  },
  {
   "cell_type": "markdown",
   "metadata": {},
   "source": [
    "## Survey"
   ]
  },
  {
   "cell_type": "code",
   "execution_count": 2,
   "metadata": {},
   "outputs": [],
   "source": [
    "import survey\n",
    "importlib.reload(survey)\n",
    "csv_file = \"surveys/survey_kano-model_v1.csv\"\n",
    "surv = survey.KanoSurvey(csv_file)"
   ]
  },
  {
   "cell_type": "markdown",
   "metadata": {},
   "source": [
    "## Prompt Builder"
   ]
  },
  {
   "cell_type": "code",
   "execution_count": 21,
   "metadata": {},
   "outputs": [],
   "source": [
    "def userMsg(*args) -> dict:\n",
    "    return {\"role\": \"user\", \"content\": \"\\n\".join(args)}\n",
    "def assistantMsg(*args) -> dict:\n",
    "    return {\"role\": \"assistant\", \"content\": \"\\n\".join(args)}\n",
    "def systemMsg(*args) -> dict:\n",
    "    return {\"role\": \"system\", \"content\": \"\\n\".join(args)}"
   ]
  },
  {
   "cell_type": "code",
   "execution_count": 11,
   "metadata": {},
   "outputs": [],
   "source": [
    "persona_text = \"Favorite video games are Rimworld, Minecraft, Age of Empires, 7 Days to Die\""
   ]
  },
  {
   "cell_type": "code",
   "execution_count": 23,
   "metadata": {},
   "outputs": [],
   "source": [
    "final_prompts = []\n",
    "\n",
    "for question in surv.questions:\n",
    "    p = [\n",
    "        # userMsg(\n",
    "        #     \"\\n\".join([\n",
    "        #         \"Text below contains extract of data about a persona. Use this data to understanding the likes and prefferences of the persona.\",\n",
    "        #         persona_text\n",
    "        #     ])\n",
    "        # ),\n",
    "        # assistantMsg(\"Understood. I will answer my questions from the point of view of the persona\"),\n",
    "        userMsg(\"\\n\".join([\n",
    "            f\"You are surveyed about video game prefferences. Reply to the statement below with one of the five options: {', '.join(surv.POSSIBLE_ANSWERS)}. Your answer should only contain the chosen option. \",\n",
    "            question\n",
    "        ])),\n",
    "    ]\n",
    "    final_prompts.append(p)\n",
    "bu.quickJSON(final_prompts, \"ignorefolder/prompts.json\")"
   ]
  },
  {
   "cell_type": "markdown",
   "metadata": {},
   "source": [
    "## Run Simulation"
   ]
  },
  {
   "cell_type": "code",
   "execution_count": 24,
   "metadata": {},
   "outputs": [
    {
     "name": "stdout",
     "output_type": "stream",
     "text": [
      "0/40...1/40...2/40...What would you say if the game had the option to save the game at any time?:\n",
      " I LIKE IT\n",
      "3/40...What would you say if the game did NOT have the option to save the game at any time?:\n",
      " I EXPECT IT\n",
      "4/40...What would you say if the game has good graphics?:\n",
      " I LIKE IT\n",
      "5/40...What would you say if the game had NO good graphics, or rather poor graphics?:\n",
      " I CAN TOLERATE IT\n",
      "6/40...What would you say if the game had an exciting storyline?:\n",
      " I LIKE IT\n",
      "7/40...What would you say if the game did NOT have an exciting storyline?:\n",
      " I DISLIKE IT\n",
      "8/40...What would you say if there were rewards such as extra points, in-game currency or coins in the game?:\n",
      " I LIKE IT\n",
      "9/40...What would you say if there were NO rewards such as extra points, in-game currency or coins in the game?:\n",
      " I AM NEUTRAL\n",
      "10/40...What would you say if the game had realistic game physics?:\n",
      " I LIKE IT\n",
      "11/40...What would you say if the game does NOT have realistic physics?:\n",
      " I LIKE IT\n",
      "12/40...What would you say if the game had a relaxed flow rather than being very exciting?:\n",
      " I LIKE IT\n",
      "13/40...14/40...What would you say if the game had a multiplayer mode?:\n",
      " I LIKE IT\n",
      "15/40...What would you say if the game does NOT have multiplayer mode?:\n",
      " I LIKE IT\n",
      "16/40...What would you say if you can loot defeated enemies in the game?:\n",
      " I LIKE IT\n",
      "17/40...What would you say if you CANNOT loot defeated enemies in the game?:\n",
      " I DISLIKE IT\n",
      "18/40...What would you say if the game had cutscenes?:\n",
      " I LIKE IT\n",
      "19/40...What would you say if the game DIDN'T have cutscenes?:\n",
      " I LIKE IT\n",
      "20/40...What would you say if the game had more and increasingly difficult levels?:\n",
      " I LIKE IT\n",
      "21/40...What would you say if the game had NO levels, or the difficulty didn't increase?:\n",
      " I DISLIKE IT\n",
      "22/40...What would you say if the game had a high score table or hall of fame?:\n",
      " I LIKE IT\n",
      "23/40...What would you say if the game does NOT have a high score table or hall of fame?:\n",
      " I EXPECT IT\n",
      "24/40...What would you say if the game contains role-playing elements?:\n",
      " I LIKE IT\n",
      "25/40...What would you say if the game contained NO role-playing elements?:\n",
      " I DISLIKE IT\n",
      "26/40...What would you say if the game had realistic graphics?:\n",
      " I LIKE IT\n",
      "27/40...What would you say if the game DON'T have realistic graphics?:\n",
      " I LIKE IT\n",
      "28/40...What would you say if the game offered the opportunity to level up the character?:\n",
      " I LIKE IT\n",
      "29/40...What would you say if the game does NOT provide a way to level up the character?:\n",
      " I EXPECT IT\n",
      "30/40...What would you say if the game contained violent elements?:\n",
      " I CAN TOLERATE IT\n",
      "31/40...What would you say if the game contained NO violent elements?:\n",
      " I LIKE IT\n",
      "32/40...What would you say if the game gave you creative freedom?:\n",
      " I LIKE IT\n",
      "33/40...What would you say if the game DIDN'T give you creative freedom?:\n",
      " I DISLIKE IT\n",
      "34/40...What would you say if the game had a compelling plot or narrative?:\n",
      " I LIKE IT\n",
      "35/40...36/40...What would you say if the game had quests?:\n",
      " I LIKE IT\n",
      "37/40...38/40...What would you say if the game had a clear ending or goal?:\n",
      " I LIKE IT\n",
      "39/40...What would you say if the game does NOT have an ending or clear goal?:\n",
      " I DISLIKE IT\n"
     ]
    }
   ],
   "source": [
    "##################################\n",
    "SIMULATION_NAMEID = \"base\"\n",
    "SETTINGS = {\n",
    "    # \"description\": \"Base test\",\n",
    "    \"model\": \"gpt-3.5-turbo\",\n",
    "}\n",
    "##################################\n",
    "\n",
    "import pandas as pd\n",
    "from openai import OpenAI\n",
    "import os\n",
    "\n",
    "client = OpenAI(\n",
    "    # This is the default and can be omitted\n",
    "    api_key=os.environ.get(\"OPENAI_API_KEY\"),\n",
    ")\n",
    "\n",
    "results = []\n",
    "l = len(final_prompts)\n",
    "\n",
    "for i, (prompt, question) in enumerate(list(zip(final_prompts, surv.questions))):\n",
    "    print(f\"{i}/{l}...\", end=\"\") # Print progress\n",
    "    # Send the Request\n",
    "    full_response = client.chat.completions.create(\n",
    "        messages=prompt,\n",
    "        model=SETTINGS[\"model\"],\n",
    "    )\n",
    "    r = full_response.choices[0].message.content\n",
    "\n",
    "    # Process response\n",
    "    if r not in surv.POSSIBLE_ANSWERS:\n",
    "        results.append({'question': question, 'answer': r, 'isValid': False})\n",
    "        continue\n",
    "    results.append({'question': question, 'answer': r, 'isValid': True})\n",
    "    print(f\"{question}:\\n {r}\")\n",
    "\n",
    "# Save results\n",
    "df = pd.DataFrame(results)\n",
    "df.to_csv(f\"results/{SIMULATION_NAMEID}_simulation.csv\", index=False)\n",
    "bu.quickJSON(results, f\"results/{SIMULATION_NAMEID}_prompts.json\")\n",
    "bu.quickJSON(SETTINGS, f\"results/{SIMULATION_NAMEID}_setings.json\")"
   ]
  },
  {
   "cell_type": "markdown",
   "metadata": {},
   "source": [
    "## Analysis"
   ]
  },
  {
   "cell_type": "code",
   "execution_count": 37,
   "metadata": {},
   "outputs": [
    {
     "data": {
      "text/html": [
       "<div>\n",
       "<style scoped>\n",
       "    .dataframe tbody tr th:only-of-type {\n",
       "        vertical-align: middle;\n",
       "    }\n",
       "\n",
       "    .dataframe tbody tr th {\n",
       "        vertical-align: top;\n",
       "    }\n",
       "\n",
       "    .dataframe thead th {\n",
       "        text-align: right;\n",
       "    }\n",
       "</style>\n",
       "<table border=\"1\" class=\"dataframe\">\n",
       "  <thead>\n",
       "    <tr style=\"text-align: right;\">\n",
       "      <th></th>\n",
       "      <th>question</th>\n",
       "      <th>answer</th>\n",
       "    </tr>\n",
       "  </thead>\n",
       "  <tbody>\n",
       "    <tr>\n",
       "      <th>0</th>\n",
       "      <td>What would you say if there were options to de...</td>\n",
       "      <td>I LIKE IT</td>\n",
       "    </tr>\n",
       "    <tr>\n",
       "      <th>1</th>\n",
       "      <td>What would you say if there were NO options to...</td>\n",
       "      <td>I DISLIKE IT</td>\n",
       "    </tr>\n",
       "    <tr>\n",
       "      <th>2</th>\n",
       "      <td>What would you say if the game had the option ...</td>\n",
       "      <td>I LIKE IT</td>\n",
       "    </tr>\n",
       "    <tr>\n",
       "      <th>3</th>\n",
       "      <td>What would you say if the game did NOT have th...</td>\n",
       "      <td>I EXPECT IT</td>\n",
       "    </tr>\n",
       "    <tr>\n",
       "      <th>4</th>\n",
       "      <td>What would you say if the game has good graphics?</td>\n",
       "      <td>I LIKE IT</td>\n",
       "    </tr>\n",
       "  </tbody>\n",
       "</table>\n",
       "</div>"
      ],
      "text/plain": [
       "                                            question        answer\n",
       "0  What would you say if there were options to de...     I LIKE IT\n",
       "1  What would you say if there were NO options to...  I DISLIKE IT\n",
       "2  What would you say if the game had the option ...     I LIKE IT\n",
       "3  What would you say if the game did NOT have th...   I EXPECT IT\n",
       "4  What would you say if the game has good graphics?     I LIKE IT"
      ]
     },
     "execution_count": 37,
     "metadata": {},
     "output_type": "execute_result"
    }
   ],
   "source": [
    "# remove all characters from a black list from the column answer\n",
    "for substr in utils.BLACKLIST_ANSWER_SUBSTRINGS:\n",
    "    df['answer'] = df['answer'].apply(lambda x: re.sub(substr, \"\", x))\n",
    "# Update isValid\n",
    "    df['isValid'] = df['answer'].apply(lambda x: x in surv.POSSIBLE_ANSWERS)\n",
    "\n",
    "# if all values in isValid is true, drop the column, else print a message\n",
    "if df['isValid'].all():\n",
    "    df = df.drop('isValid', axis=1)\n",
    "else:\n",
    "    print(\"Some answers were not valid\")\n",
    "\n",
    "df.head()"
   ]
  },
  {
   "cell_type": "code",
   "execution_count": null,
   "metadata": {},
   "outputs": [],
   "source": [
    "# Proces simulation output\n",
    "import pandas as pd\n",
    "df = pd.DataFrame(results)\n",
    "\n",
    "air = surv.test_answers[\"airidas\"]\n",
    "eli = surv.test_answers[\"elias\"]\n",
    "df.insert(2, \"airidas\", air[:len(df)])\n",
    "df.insert(3, \"elias\", eli[:len(df)])\n",
    "\n",
    "df['answer'] = df['answer'].str.lower()\n",
    "df['airidas'] = df['airidas'].str.lower()\n",
    "df['elias'] = df['elias'].str.lower()"
   ]
  },
  {
   "cell_type": "code",
   "execution_count": 31,
   "metadata": {},
   "outputs": [],
   "source": [
    "df = pd.read_csv('results/base_simulation.csv')\n",
    "# df = df.drop(df.columns[0], axis=1) #if loaded from csv, drop the added index col"
   ]
  },
  {
   "cell_type": "code",
   "execution_count": 14,
   "metadata": {},
   "outputs": [],
   "source": [
    "\n",
    "\n",
    "# add a new column boolean comparing\n",
    "df['airidas_correct'] = df['answer'] == df['airidas']\n",
    "df['elias_correct'] = df['answer'] == df['elias']"
   ]
  },
  {
   "cell_type": "code",
   "execution_count": 20,
   "metadata": {},
   "outputs": [
    {
     "name": "stdout",
     "output_type": "stream",
     "text": [
      "0.35\n",
      "0.225\n"
     ]
    }
   ],
   "source": [
    "# compute one number of how the percentage of correct answers\n",
    "print(df['airidas_correct'].sum() / len(df))\n",
    "print(df['elias_correct'].sum() / len(df))\n"
   ]
  },
  {
   "cell_type": "code",
   "execution_count": null,
   "metadata": {},
   "outputs": [],
   "source": []
  }
 ],
 "metadata": {
  "kernelspec": {
   "display_name": "Python 3",
   "language": "python",
   "name": "python3"
  },
  "language_info": {
   "codemirror_mode": {
    "name": "ipython",
    "version": 3
   },
   "file_extension": ".py",
   "mimetype": "text/x-python",
   "name": "python",
   "nbconvert_exporter": "python",
   "pygments_lexer": "ipython3",
   "version": "3.9.6"
  }
 },
 "nbformat": 4,
 "nbformat_minor": 2
}
