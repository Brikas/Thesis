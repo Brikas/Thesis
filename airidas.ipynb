{
 "cells": [
  {
   "cell_type": "code",
   "execution_count": null,
   "metadata": {},
   "outputs": [],
   "source": [
    "import mv_en_chats\n",
    "\n",
    "# Replace 'folder_path' with the path to your main folder\n",
    "folder_path = '/Users/twenythree/Home/Prot/Code/selected-data/processed'\n",
    "# Replace 'destination_folder' with the path to your destination folder\n",
    "destination_folder = '/Users/twenythree/Home/Prot/Code/selected-data/english'\n",
    "# Call the function to move folders with English chats to the destination folder\n",
    "mv_en_chats.move_english_jsons(folder_path, destination_folder)"
   ]
  },
  {
   "cell_type": "code",
   "execution_count": null,
   "metadata": {},
   "outputs": [],
   "source": [
    "import countLen_mv\n",
    "\n",
    "# Replace 'folder_path' with the path to your folder containing JSON files\n",
    "folder_path = '/Users/twenythree/Home/Prot/FbData/facebook-airidasbrikas-2024-03-10-BHEyrt34/your_facebook_activity/messages/inbox'\n",
    "# Replace 'destination_folder' with the path to your destination folder\n",
    "destination_folder = 'selected-data/processed'\n",
    "\n",
    "# Call the function to count messages, move JSON files, and rename them\n",
    "countLen_mv.count_and_move_json_files(folder_path, destination_folder)"
   ]
  }
 ],
 "metadata": {
  "language_info": {
   "name": "python"
  }
 },
 "nbformat": 4,
 "nbformat_minor": 2
}
