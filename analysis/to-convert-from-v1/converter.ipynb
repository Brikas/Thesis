{
 "cells": [
  {
   "cell_type": "code",
   "execution_count": 7,
   "metadata": {},
   "outputs": [
    {
     "name": "stdout",
     "output_type": "stream",
     "text": [
      "8\n",
      "10\n"
     ]
    }
   ],
   "source": [
    "## Make V2\n",
    "import csv\n",
    "import os\n",
    "import json\n",
    "import pandas\n",
    "import re\n",
    "import brikasutils_copy as bu\n",
    "\n",
    "# Map all the csv files\n",
    "paths_csvs = []\n",
    "for dirpath, dirnames, files in os.walk('csvs'):\n",
    "    for file in files:\n",
    "        full_path = os.path.join(dirpath, file)\n",
    "        if os.path.isfile(full_path):\n",
    "            paths_csvs.append(os.path.join( dirpath, file))\n",
    "# Map all the info files\n",
    "paths_infos = []\n",
    "for dirpath, dirnames, files in os.walk('infos'):\n",
    "    for file in files:\n",
    "        full_path = os.path.join(dirpath, file)\n",
    "        if os.path.isfile(full_path):\n",
    "            paths_infos.append(os.path.join( dirpath, file))\n",
    "\n",
    "# print lens\n",
    "print(len(paths_csvs))\n",
    "print(len(paths_infos))"
   ]
  },
  {
   "cell_type": "code",
   "execution_count": 8,
   "metadata": {},
   "outputs": [],
   "source": [
    "# Pair the csv files with the info files\n",
    "csv_info_pairs_paths = []\n",
    "for path_csv in paths_csvs:\n",
    "    if path_csv.endswith('.csv'):\n",
    "        match = re.search(r'/([^/]+)_simulation\\.csv', path_csv)\n",
    "        if match:\n",
    "            SIMULATION_NAMEID = match.group(1)\n",
    "        else:\n",
    "            raise Exception(\"Invalid csv file name: \" + path_csv)\n",
    "        \n",
    "        isFound = False\n",
    "        for path_info in paths_infos:\n",
    "            if SIMULATION_NAMEID in path_info:\n",
    "                csv_info_pairs_paths.append((path_csv, path_info, SIMULATION_NAMEID))\n",
    "                if isFound:\n",
    "                    raise Exception(\"Multiple info files found for \" + SIMULATION_NAMEID)\n",
    "                isFound = True\n",
    "\n",
    "\n",
    "        if not isFound:\n",
    "            raise Exception(\"Info file not found for \" + SIMULATION_NAMEID)"
   ]
  },
  {
   "cell_type": "code",
   "execution_count": 9,
   "metadata": {},
   "outputs": [
    {
     "name": "stdout",
     "output_type": "stream",
     "text": [
      "Done. Saved 8 simulations.\n"
     ]
    }
   ],
   "source": [
    "bu.if_dir_not_exist_make(\"converted\")\n",
    "for csv_file, info_file, sim_id in csv_info_pairs_paths:\n",
    "    sim_v2 = {}\n",
    "    with open(info_file, 'r') as f:\n",
    "        sim_v2[\"info\"] = json.load(f)\n",
    "    with open(csv_file, newline='') as csvfile:\n",
    "        reader = csv.reader(csvfile)\n",
    "        sim_v2[\"QA\"] = list(reader)\n",
    "    # save the new simulation\n",
    "    bu.quickJSON(sim_v2, f\"converted/{sim_id}.json\")\n",
    "\n",
    "print(f\"Done. Saved {len(csv_info_pairs_paths)} simulations.\")"
   ]
  },
  {
   "cell_type": "code",
   "execution_count": null,
   "metadata": {},
   "outputs": [],
   "source": []
  }
 ],
 "metadata": {
  "kernelspec": {
   "display_name": "Python 3",
   "language": "python",
   "name": "python3"
  },
  "language_info": {
   "codemirror_mode": {
    "name": "ipython",
    "version": 3
   },
   "file_extension": ".py",
   "mimetype": "text/x-python",
   "name": "python",
   "nbconvert_exporter": "python",
   "pygments_lexer": "ipython3",
   "version": "3.11.9"
  }
 },
 "nbformat": 4,
 "nbformat_minor": 2
}
