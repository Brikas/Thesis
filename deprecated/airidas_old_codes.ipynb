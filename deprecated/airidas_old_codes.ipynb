{
 "cells": [
  {
   "cell_type": "code",
   "execution_count": null,
   "metadata": {},
   "outputs": [],
   "source": [
    "final_prompts = []\n",
    "\n",
    "for question in surv.questions:\n",
    "    p = [\n",
    "        userMsg(\n",
    "            \"\\n\".join([\n",
    "                \"Text below contains extract of chat data about a persona. Use this data to understanding the likes and prefferences of the persona.\",\n",
    "                persona_text\n",
    "            ])\n",
    "        ),\n",
    "        assistantMsg(\"Understood. I will answer the questions from the point of view of the persona\"),\n",
    "        userMsg(\"\\n\".join([\n",
    "            f\"Persona is surveyed about video game prefferences. The persona must choose answer the question below with one of the five options: {', '.join(surv.POSSIBLE_ANSWERS)}. Persona's answer must only contain the chosen option. \",\n",
    "            question,\n",
    "            \"The persona chooses: \"\n",
    "        ])),\n",
    "    ]\n",
    "    final_prompts.append(p)\n",
    "bu.quickJSON(final_prompts, \"ignorefolder/prompts.json\")"
   ]
  }
 ],
 "metadata": {
  "language_info": {
   "name": "python"
  }
 },
 "nbformat": 4,
 "nbformat_minor": 2
}
