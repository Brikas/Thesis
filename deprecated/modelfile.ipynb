{
 "cells": [
  {
   "cell_type": "markdown",
   "metadata": {},
   "source": [
    "# Modelfile"
   ]
  },
  {
   "cell_type": "markdown",
   "metadata": {},
   "source": [
    "Force short JSON (markdown) answer\n",
    "Add this to the end of your prompt:\n",
    "> ```json\n",
    "Add this to the \"stop\" sequence:\n",
    ">```\n",
    "----\n",
    "llama3:70b\n",
    "TEMPLATE \"\"\"\n",
    "{{ if .System }}<|start_header_id|>system<|end_header_id|>{{ .System }}<|eot_id|>{{ end }}\n",
    "\n",
    "{{ if .Prompt }}<|start_header_id|>user<|end_header_id|>{{ .Prompt }}<|eot_id|>{{ end }}\n",
    "\n",
    "<|start_header_id|>assistant<|end_header_id|>{{ .Response }}<|eot_id|>\"\"\"\n",
    "\n",
    "----\n",
    "\n",
    "PARAMETER stop \"<|start_header_id|>\"\n",
    "PARAMETER stop \"<|end_header_id|>\"\n",
    "PARAMETER stop \"<|eot_id|>\""
   ]
  }
 ],
 "metadata": {
  "language_info": {
   "name": "python"
  }
 },
 "nbformat": 4,
 "nbformat_minor": 2
}
